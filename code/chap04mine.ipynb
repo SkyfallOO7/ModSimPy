{
 "cells": [
  {
   "cell_type": "markdown",
   "metadata": {},
   "source": [
    "# Modeling and Simulation in Python\n",
    "\n",
    "Chapter 4: Predict\n",
    "\n",
    "Copyright 2017 Allen Downey\n",
    "\n",
    "License: [Creative Commons Attribution 4.0 International](https://creativecommons.org/licenses/by/4.0)\n"
   ]
  },
  {
   "cell_type": "code",
   "execution_count": 1,
   "metadata": {
    "collapsed": true
   },
   "outputs": [],
   "source": [
    "# If you want the figures to appear in the notebook, \n",
    "# and you want to interact with them, use\n",
    "# %matplotlib notebook\n",
    "\n",
    "# If you want the figures to appear in the notebook, \n",
    "# and you don't want to interact with them, use\n",
    "# %matplotlib inline\n",
    "\n",
    "# If you want the figures to appear in separate windows, use\n",
    "# %matplotlib qt5\n",
    "\n",
    "# To switch from one to another, you have to select Kernel->Restart\n",
    "\n",
    "%matplotlib inline\n",
    "\n",
    "from modsim import *"
   ]
  },
  {
   "cell_type": "markdown",
   "metadata": {},
   "source": [
    "### Functions from the previous chapter"
   ]
  },
  {
   "cell_type": "code",
   "execution_count": 2,
   "metadata": {
    "collapsed": true
   },
   "outputs": [],
   "source": [
    "def plot_estimates(table):\n",
    "    \"\"\"Plot world population estimates.\n",
    "    \n",
    "    table: DataFrame with columns `un` and `census`\n",
    "    \"\"\"\n",
    "    un = table.un / 1e9\n",
    "    census = table.census / 1e9\n",
    "    \n",
    "    plot(census, ':', color='darkblue', label='US Census')\n",
    "    plot(un, '--', color='green', label='UN DESA')\n",
    "    \n",
    "    decorate(xlabel='Year',\n",
    "             ylabel='World population (billion)')"
   ]
  },
  {
   "cell_type": "code",
   "execution_count": 3,
   "metadata": {
    "collapsed": true
   },
   "outputs": [],
   "source": [
    "def plot_results(system):\n",
    "    \"\"\"Plot the estimates and the model.\n",
    "    \n",
    "    system: System object with `results`\n",
    "    \"\"\"\n",
    "    newfig()\n",
    "    plot_estimates(table2)\n",
    "    plot(system.results, '--', color='gray', label='model')\n",
    "    decorate(xlabel='Year', \n",
    "             ylabel='World population (billion)')"
   ]
  },
  {
   "cell_type": "code",
   "execution_count": 4,
   "metadata": {
    "collapsed": true
   },
   "outputs": [],
   "source": [
    "def run_simulation(system, update_func):\n",
    "    \"\"\"Run a model.\n",
    "    \n",
    "    Adds TimeSeries to `system` as `results`.\n",
    "\n",
    "    system: System object\n",
    "    update_func: function that computes the population next year\n",
    "    \"\"\"\n",
    "    results = Series([])\n",
    "    results[system.t0] = system.p0\n",
    "    for t in linrange(system.t0, system.t_end):\n",
    "        results[t+1] = update_func(results[t], t, system)\n",
    "    system.results = results"
   ]
  },
  {
   "cell_type": "markdown",
   "metadata": {
    "collapsed": true
   },
   "source": [
    "### Reading the data"
   ]
  },
  {
   "cell_type": "code",
   "execution_count": 5,
   "metadata": {
    "collapsed": true
   },
   "outputs": [],
   "source": [
    "# The data directory contains a downloaded copy of\n",
    "# https://en.wikipedia.org/wiki/World_population_estimates\n",
    "\n",
    "from pandas import read_html\n",
    "filename = 'data/World_population_estimates.html'\n",
    "tables = read_html(filename, header=0, index_col=0, decimal='M')"
   ]
  },
  {
   "cell_type": "code",
   "execution_count": 6,
   "metadata": {
    "collapsed": true,
    "scrolled": true
   },
   "outputs": [],
   "source": [
    "table2 = tables[2]"
   ]
  },
  {
   "cell_type": "code",
   "execution_count": 7,
   "metadata": {
    "collapsed": true
   },
   "outputs": [],
   "source": [
    "table2.columns = ['census', 'prb', 'un', 'maddison', \n",
    "                  'hyde', 'tanton', 'biraben', 'mj', \n",
    "                  'thomlinson', 'durand', 'clark']"
   ]
  },
  {
   "cell_type": "code",
   "execution_count": 8,
   "metadata": {},
   "outputs": [
    {
     "data": {
      "image/png": "[encoded data removed]",
      "text/plain": [
       "<matplotlib.figure.Figure at 0x2ae6d075780>"
      ]
     },
     "metadata": {},
     "output_type": "display_data"
    }
   ],
   "source": [
    "newfig()\n",
    "plot_estimates(table2)"
   ]
  },
  {
   "cell_type": "markdown",
   "metadata": {
    "collapsed": true
   },
   "source": [
    "### Running the quadratic model"
   ]
  },
  {
   "cell_type": "markdown",
   "metadata": {},
   "source": [
    "Here's the update function for the quadratic growth model with parameters `alpha` and `beta`."
   ]
  },
  {
   "cell_type": "code",
   "execution_count": 9,
   "metadata": {
    "collapsed": true
   },
   "outputs": [],
   "source": [
    "def update_func2(pop, t, system):\n",
    "    \"\"\"Update population based on a quadratic model.\n",
    "    \n",
    "    pop: current population in billions\n",
    "    t: what year it is\n",
    "    system: system object with model parameters\n",
    "    \"\"\"\n",
    "    net_growth = system.alpha * pop + system.beta * pop**2\n",
    "    return pop + net_growth"
   ]
  },
  {
   "cell_type": "markdown",
   "metadata": {},
   "source": [
    "Select the estimates generated by the U.S. Census, and convert to billions."
   ]
  },
  {
   "cell_type": "code",
   "execution_count": 10,
   "metadata": {
    "collapsed": true
   },
   "outputs": [],
   "source": [
    "census = table2.census / 1e9"
   ]
  },
  {
   "cell_type": "markdown",
   "metadata": {},
   "source": [
    "Extract the starting time and population."
   ]
  },
  {
   "cell_type": "code",
   "execution_count": 11,
   "metadata": {
    "collapsed": true
   },
   "outputs": [],
   "source": [
    "t0 = census.index[0]\n",
    "p0 = census[t0]\n",
    "t_end = census.index[-1]"
   ]
  },
  {
   "cell_type": "markdown",
   "metadata": {},
   "source": [
    "Initialize the system object."
   ]
  },
  {
   "cell_type": "code",
   "execution_count": 12,
   "metadata": {
    "scrolled": true
   },
   "outputs": [
    {
     "data": {
      "text/html": [
       "<div>\n",
       "<style>\n",
       "    .dataframe thead tr:only-child th {\n",
       "        text-align: right;\n",
       "    }\n",
       "\n",
       "    .dataframe thead th {\n",
       "        text-align: left;\n",
       "    }\n",
       "\n",
       "    .dataframe tbody tr th {\n",
       "        vertical-align: top;\n",
       "    }\n",
       "</style>\n",
       "<table border=\"1\" class=\"dataframe\">\n",
       "  <thead>\n",
       "    <tr style=\"text-align: right;\">\n",
       "      <th></th>\n",
       "      <th>value</th>\n",
       "    </tr>\n",
       "  </thead>\n",
       "  <tbody>\n",
       "    <tr>\n",
       "      <th>t0</th>\n",
       "      <td>1950.000000</td>\n",
       "    </tr>\n",
       "    <tr>\n",
       "      <th>t_end</th>\n",
       "      <td>2015.000000</td>\n",
       "    </tr>\n",
       "    <tr>\n",
       "      <th>p0</th>\n",
       "      <td>2.557629</td>\n",
       "    </tr>\n",
       "    <tr>\n",
       "      <th>alpha</th>\n",
       "      <td>0.025000</td>\n",
       "    </tr>\n",
       "    <tr>\n",
       "      <th>beta</th>\n",
       "      <td>-0.001800</td>\n",
       "    </tr>\n",
       "  </tbody>\n",
       "</table>\n",
       "</div>"
      ],
      "text/plain": [
       "t0       1950.000000\n",
       "t_end    2015.000000\n",
       "p0          2.557629\n",
       "alpha       0.025000\n",
       "beta       -0.001800\n",
       "dtype: float64"
      ]
     },
     "execution_count": 12,
     "metadata": {},
     "output_type": "execute_result"
    }
   ],
   "source": [
    "system = System(t0=t0, \n",
    "                t_end=t_end,\n",
    "                p0=p0,\n",
    "                alpha=0.025,\n",
    "                beta=-0.0018)\n",
    "\n",
    "system"
   ]
  },
  {
   "cell_type": "markdown",
   "metadata": {},
   "source": [
    "Run the model and plot results."
   ]
  },
  {
   "cell_type": "code",
   "execution_count": 13,
   "metadata": {},
   "outputs": [
    {
     "data": {
      "image/png": "[encoded data removed]",
      "text/plain": [
       "<matplotlib.figure.Figure at 0x2ae6d075f28>"
      ]
     },
     "metadata": {},
     "output_type": "display_data"
    }
   ],
   "source": [
    "run_simulation(system, update_func2)\n",
    "plot_results(system)\n",
    "decorate(title='Quadratic model')"
   ]
  },
  {
   "cell_type": "markdown",
   "metadata": {},
   "source": [
    "### Generating projections"
   ]
  },
  {
   "cell_type": "markdown",
   "metadata": {},
   "source": [
    "To generate projections, all we have to do is change `t_end`"
   ]
  },
  {
   "cell_type": "code",
   "execution_count": 14,
   "metadata": {
    "scrolled": false
   },
   "outputs": [
    {
     "name": "stdout",
     "output_type": "stream",
     "text": [
      "Saving figure to file chap04-fig01.pdf\n"
     ]
    },
    {
     "data": {
      "image/png": "[encoded data removed]",
      "text/plain": [
       "<matplotlib.figure.Figure at 0x2ae6d4f1f60>"
      ]
     },
     "metadata": {},
     "output_type": "display_data"
    }
   ],
   "source": [
    "system.t_end = 2250\n",
    "run_simulation(system, update_func2)\n",
    "plot_results(system)\n",
    "decorate(title='World population projection')\n",
    "savefig('chap04-fig01.pdf')"
   ]
  },
  {
   "cell_type": "markdown",
   "metadata": {},
   "source": [
    "The population in the model converges on the equilibrium population, `-alpha/beta`"
   ]
  },
  {
   "cell_type": "code",
   "execution_count": 15,
   "metadata": {},
   "outputs": [
    {
     "data": {
      "text/plain": [
       "13.856665141368708"
      ]
     },
     "execution_count": 15,
     "metadata": {},
     "output_type": "execute_result"
    }
   ],
   "source": [
    "system.results[system.t_end]"
   ]
  },
  {
   "cell_type": "code",
   "execution_count": 16,
   "metadata": {},
   "outputs": [
    {
     "data": {
      "text/plain": [
       "13.888888888888889"
      ]
     },
     "execution_count": 16,
     "metadata": {},
     "output_type": "execute_result"
    }
   ],
   "source": [
    "-system.alpha / system.beta"
   ]
  },
  {
   "cell_type": "markdown",
   "metadata": {},
   "source": [
    "**Exercise:**  What happens if we start with an initial population above the carrying capacity, like 20 billion?  The the model with initial populations between 1 and 20 billion, and plot the results on the same axes."
   ]
  },
  {
   "cell_type": "code",
   "execution_count": 17,
   "metadata": {},
   "outputs": [
    {
     "name": "stdout",
     "output_type": "stream",
     "text": [
      "Saving figure to file chap04-fig01.pdf\n"
     ]
    },
    {
     "data": {
      "image/png": "[encoded data removed]",
      "text/plain": [
       "<matplotlib.figure.Figure at 0x2ae6d5a2cc0>"
      ]
     },
     "metadata": {},
     "output_type": "display_data"
    }
   ],
   "source": [
    "# Solution goes here\n",
    "\n",
    "system = System(t0=t0, \n",
    "                t_end=t_end,\n",
    "                p0=20,\n",
    "                alpha=0.025,\n",
    "                beta=-0.0018)\n",
    "\n",
    "system.t_end = 2250\n",
    "run_simulation(system, update_func2)\n",
    "plot_results(system)\n",
    "decorate(title='World population projection')\n",
    "savefig('chap04-fig01.pdf')"
   ]
  },
  {
   "cell_type": "markdown",
   "metadata": {},
   "source": [
    "### Comparing projections"
   ]
  },
  {
   "cell_type": "markdown",
   "metadata": {},
   "source": [
    "We can compare the projection from our model with projections produced by people who know what they are doing."
   ]
  },
  {
   "cell_type": "code",
   "execution_count": 18,
   "metadata": {},
   "outputs": [
    {
     "data": {
      "text/html": [
       "<div>\n",
       "<style>\n",
       "    .dataframe thead tr:only-child th {\n",
       "        text-align: right;\n",
       "    }\n",
       "\n",
       "    .dataframe thead th {\n",
       "        text-align: left;\n",
       "    }\n",
       "\n",
       "    .dataframe tbody tr th {\n",
       "        vertical-align: top;\n",
       "    }\n",
       "</style>\n",
       "<table border=\"1\" class=\"dataframe\">\n",
       "  <thead>\n",
       "    <tr style=\"text-align: right;\">\n",
       "      <th></th>\n",
       "      <th>United States Census Bureau (2015)[18]</th>\n",
       "      <th>Population Reference Bureau (1973-2015)[6]</th>\n",
       "      <th>United Nations Department of Economic and Social Affairs (2015)[7]</th>\n",
       "    </tr>\n",
       "    <tr>\n",
       "      <th>Year</th>\n",
       "      <th></th>\n",
       "      <th></th>\n",
       "      <th></th>\n",
       "    </tr>\n",
       "  </thead>\n",
       "  <tbody>\n",
       "    <tr>\n",
       "      <th>2016</th>\n",
       "      <td>7.334772e+09</td>\n",
       "      <td>NaN</td>\n",
       "      <td>7.432663e+09</td>\n",
       "    </tr>\n",
       "    <tr>\n",
       "      <th>2017</th>\n",
       "      <td>7.412779e+09</td>\n",
       "      <td>NaN</td>\n",
       "      <td>NaN</td>\n",
       "    </tr>\n",
       "    <tr>\n",
       "      <th>2018</th>\n",
       "      <td>7.490428e+09</td>\n",
       "      <td>NaN</td>\n",
       "      <td>NaN</td>\n",
       "    </tr>\n",
       "    <tr>\n",
       "      <th>2019</th>\n",
       "      <td>7.567403e+09</td>\n",
       "      <td>NaN</td>\n",
       "      <td>NaN</td>\n",
       "    </tr>\n",
       "    <tr>\n",
       "      <th>2020</th>\n",
       "      <td>7.643402e+09</td>\n",
       "      <td>NaN</td>\n",
       "      <td>7.758157e+09</td>\n",
       "    </tr>\n",
       "  </tbody>\n",
       "</table>\n",
       "</div>"
      ],
      "text/plain": [
       "      United States Census Bureau (2015)[18]  \\\n",
       "Year                                           \n",
       "2016                            7.334772e+09   \n",
       "2017                            7.412779e+09   \n",
       "2018                            7.490428e+09   \n",
       "2019                            7.567403e+09   \n",
       "2020                            7.643402e+09   \n",
       "\n",
       "      Population Reference Bureau (1973-2015)[6]  \\\n",
       "Year                                               \n",
       "2016                                         NaN   \n",
       "2017                                         NaN   \n",
       "2018                                         NaN   \n",
       "2019                                         NaN   \n",
       "2020                                         NaN   \n",
       "\n",
       "      United Nations Department of Economic and Social Affairs (2015)[7]  \n",
       "Year                                                                      \n",
       "2016                                       7.432663e+09                   \n",
       "2017                                                NaN                   \n",
       "2018                                                NaN                   \n",
       "2019                                                NaN                   \n",
       "2020                                       7.758157e+09                   "
      ]
     },
     "execution_count": 18,
     "metadata": {},
     "output_type": "execute_result"
    }
   ],
   "source": [
    "table3 = tables[3]\n",
    "table3.head()"
   ]
  },
  {
   "cell_type": "markdown",
   "metadata": {},
   "source": [
    "`NaN` is a special value that represents missing data, in this case because some agencies did not publish projections for some years."
   ]
  },
  {
   "cell_type": "code",
   "execution_count": 19,
   "metadata": {
    "collapsed": true
   },
   "outputs": [],
   "source": [
    "table3.columns = ['census', 'prb', 'un']"
   ]
  },
  {
   "cell_type": "markdown",
   "metadata": {},
   "source": [
    "This function plots projections from the UN DESA and U.S. Census.  It uses `dropna` to remove the `NaN` values from each series before plotting it."
   ]
  },
  {
   "cell_type": "code",
   "execution_count": 20,
   "metadata": {
    "collapsed": true
   },
   "outputs": [],
   "source": [
    "def plot_projections(table):\n",
    "    \"\"\"Plot world population projections.\n",
    "    \n",
    "    table: DataFrame with columns 'un' and 'census'\n",
    "    \"\"\"\n",
    "    census = table.census / 1e9\n",
    "    un = table.un / 1e9\n",
    "    \n",
    "    plot(census.dropna(), ':', color='darkblue', label='US Census')\n",
    "    plot(un.dropna(), '--', color='green', label='UN DESA')"
   ]
  },
  {
   "cell_type": "markdown",
   "metadata": {},
   "source": [
    "Run the model until 2100, which is as far as the other projections go."
   ]
  },
  {
   "cell_type": "code",
   "execution_count": 21,
   "metadata": {
    "collapsed": true
   },
   "outputs": [],
   "source": [
    "system.p0 = census[t0]\n",
    "system.t_end = 2100\n",
    "run_simulation(system, update_func2)"
   ]
  },
  {
   "cell_type": "markdown",
   "metadata": {},
   "source": [
    "Plot the results."
   ]
  },
  {
   "cell_type": "code",
   "execution_count": 22,
   "metadata": {},
   "outputs": [
    {
     "name": "stdout",
     "output_type": "stream",
     "text": [
      "Saving figure to file chap04-fig02.pdf\n"
     ]
    },
    {
     "data": {
      "image/png": "[encoded data removed]",
      "text/plain": [
       "<matplotlib.figure.Figure at 0x2ae6d7a90f0>"
      ]
     },
     "metadata": {},
     "output_type": "display_data"
    }
   ],
   "source": [
    "plot_results(system)\n",
    "plot_projections(table3)\n",
    "decorate(title='World population projections')\n",
    "savefig('chap04-fig02.pdf')"
   ]
  },
  {
   "cell_type": "markdown",
   "metadata": {},
   "source": [
    "People who know what they are doing expect the growth rate to decline more sharply than our model projects."
   ]
  },
  {
   "cell_type": "markdown",
   "metadata": {},
   "source": [
    "**Exercise:**  Suppose there are two banks across the street from each other, The First Geometric Bank (FGB) and Exponential Savings and Loan (ESL).  They offer the same interest rate on checking accounts, 3%, but at FGB, they compute and pay interest at the end of each year, and at ESL they compound interest continuously.\n",
    "\n",
    "If you deposit $p_0$ dollars at FGB at the beginning of Year 0, the balanace of your account at the end of Year $n$ is\n",
    "\n",
    "$ x_n = p_0 (1 + \\alpha)^n $\n",
    "\n",
    "where $\\alpha = 0.03$.  At ESL, your balance at any time $t$ would be\n",
    "\n",
    "$ x(t) = p_0 \\exp(\\alpha t) $\n",
    "\n",
    "If you deposit \\$1000 at each back at the beginning of Year 0, how much would you have in each account after 10 years?\n",
    "\n",
    "Is there an interest rate FGB could pay so that your balance at the end of each year would be the same at both banks?  What is it?\n",
    "\n",
    "Hint: `modsim` provides a function called `exp`, which is a wrapper for the NumPy function `exp`."
   ]
  },
  {
   "cell_type": "code",
   "execution_count": 146,
   "metadata": {},
   "outputs": [
    {
     "name": "stdout",
     "output_type": "stream",
     "text": [
      "FGB bank has $\n",
      "1304.77318383\n",
      "whereas ESL bank has $\n",
      "1346.48837535\n"
     ]
    }
   ],
   "source": [
    "# Solution goes here\n",
    "Banks = System(a= 0.03, t=120, n=10, P0=1000)\n",
    "\n",
    "FGB = TimeSeries()\n",
    "\n",
    "ESL = TimeSeries()\n",
    "\n",
    "a= Banks.a\n",
    "t= Banks.t\n",
    "n= Banks.n\n",
    "P0= Banks.P0\n",
    "\n",
    "def run_simFGB(system):\n",
    "    a = system.a\n",
    "    P0 = system.P0\n",
    "    n = system.n\n",
    "    \n",
    "    \n",
    "    for j in range(10):\n",
    "        FGB[j+1]= 1000*(1+0.03)**j\n",
    "    return FGB  \n",
    "\n",
    "def run_simESL(system):\n",
    "    a = system.a\n",
    "    P0 = system.P0\n",
    "    n = system.n\n",
    "    \n",
    "    \n",
    "    for j in range(120):\n",
    "        ESL[j+1]= 1000*exp(a*(j/12))\n",
    "    return ESL\n",
    "\n",
    "def run_sim(system):\n",
    "    FGB = run_simFGB(system)\n",
    "    ESL = run_simESL(system)\n",
    "    return ESL, FGB\n",
    "\n",
    "\n",
    "run_sim(Banks)\n",
    "print(\"FGB bank has $\")\n",
    "print(FGB[10])\n",
    "print(\"whereas ESL bank has $\")\n",
    "print(ESL[120])\n"
   ]
  },
  {
   "cell_type": "code",
   "execution_count": 156,
   "metadata": {},
   "outputs": [
    {
     "name": "stdout",
     "output_type": "stream",
     "text": [
      "FGB bank has $\n",
      "1000.0\n",
      "whereas ESL bank has $\n",
      "1000.0\n",
      "With an interest rate of 0, bank FGB and ESL will have the same amount of money at the end of 10 years.\n"
     ]
    }
   ],
   "source": [
    "# Solution goes here\n",
    "\n",
    "# Solution goes here\n",
    "Banks = System(a= 0.0, t=120, n=10, P0=1000)\n",
    "\n",
    "FGB = TimeSeries()\n",
    "\n",
    "ESL = TimeSeries()\n",
    "\n",
    "PCU = TimeSeries()\n",
    "\n",
    "a= Banks.a\n",
    "t= Banks.t\n",
    "n= Banks.n\n",
    "P0= Banks.P0\n",
    "\n",
    "def run_simFGB(system):\n",
    "    a = system.a\n",
    "    \n",
    "    P0 = system.P0\n",
    "    n = system.n\n",
    "    \n",
    "    \n",
    "    for j in range(10):\n",
    "        FGB[j+1]= 1000*(1+a)**j\n",
    "    return FGB  \n",
    "\n",
    "def run_simESL(system):\n",
    "    a = system.a\n",
    "    P0 = system.P0\n",
    "    n = system.n\n",
    "    \n",
    "    \n",
    "    for j in range(120):\n",
    "        ESL[j+1]= 1000*exp(a*(j/12))\n",
    "    return ESL\n",
    "\n",
    "def run_sim(system):\n",
    "    FGB = run_simFGB(system)\n",
    "    ESL = run_simESL(system)\n",
    "    return ESL, FGB\n",
    "\n",
    "\n",
    "run_sim(Banks)\n",
    "print(\"FGB bank has $\")\n",
    "print(FGB[10])\n",
    "print(\"whereas ESL bank has $\")\n",
    "print(ESL[120])\n",
    "print(\"With an interest rate of 0, bank FGB and ESL will have the same amount of money at the end of 10 years.\")"
   ]
  },
  {
   "cell_type": "code",
   "execution_count": 155,
   "metadata": {},
   "outputs": [
    {
     "data": {
      "image/png": "[encoded data removed]",
      "text/plain": [
       "<matplotlib.figure.Figure at 0x2ae6db230b8>"
      ]
     },
     "metadata": {},
     "output_type": "display_data"
    }
   ],
   "source": [
    "# Solution goes here\n",
    "plot(FGB)\n",
    "plot(ESL)"
   ]
  },
  {
   "cell_type": "code",
   "execution_count": 26,
   "metadata": {
    "collapsed": true
   },
   "outputs": [],
   "source": [
    "# Solution goes here"
   ]
  },
  {
   "cell_type": "code",
   "execution_count": 27,
   "metadata": {
    "collapsed": true
   },
   "outputs": [],
   "source": [
    "# Solution goes here"
   ]
  },
  {
   "cell_type": "code",
   "execution_count": 28,
   "metadata": {
    "collapsed": true
   },
   "outputs": [],
   "source": [
    "# Solution goes here"
   ]
  },
  {
   "cell_type": "code",
   "execution_count": 29,
   "metadata": {
    "collapsed": true
   },
   "outputs": [],
   "source": [
    "# Solution goes here"
   ]
  },
  {
   "cell_type": "markdown",
   "metadata": {},
   "source": [
    "**Exercise:** Suppose a new bank opens called the Polynomial Credit Union (PCU).  In order to compete with First Geometric Bank and Exponential Savings and Loan, PCU offers a parabolic savings account where the balance is a polynomial function of time:\n",
    "\n",
    "$ x(t) = p_0 + \\beta_1 t + \\beta_2 t^2 $\n",
    "\n",
    "As a special deal, they offer an account with $\\beta_1 = 30$ and $\\beta_2 = 0.5$, with those parameters guaranteed for life.\n",
    "\n",
    "Suppose you deposit \\$1000 at all three banks at the beginning of Year 0.  How much would you have in each account at the end of Year 10?  How about Year 20?  And Year 100?"
   ]
  },
  {
   "cell_type": "code",
   "execution_count": 114,
   "metadata": {},
   "outputs": [
    {
     "name": "stdout",
     "output_type": "stream",
     "text": [
      "1346.67013889\n"
     ]
    }
   ],
   "source": [
    "# Solution goes here\n",
    "Banks = System(a= 0.03, t=120, n=10, P0=1000)\n",
    "\n",
    "FGB = TimeSeries()\n",
    "\n",
    "ESL = TimeSeries()\n",
    "\n",
    "PCU = TimeSeries()\n",
    "\n",
    "a= Banks.a\n",
    "t= Banks.t\n",
    "n= Banks.n\n",
    "P0= Banks.P0\n",
    "\n",
    "def run_simPCU(system):\n",
    "    P0 = Banks.P0\n",
    "    n = Banks.n\n",
    "    b1=30\n",
    "    b2=.5\n",
    "    \n",
    "    \n",
    "    for j in range(120):\n",
    "        PCU[j+1]= 1000+b1*(j/12)+b2*(j/12)**2\n",
    "    return PCU\n",
    "run_simPCU(system)\n",
    "print(PCU[120])"
   ]
  },
  {
   "cell_type": "code",
   "execution_count": 112,
   "metadata": {},
   "outputs": [
    {
     "name": "stdout",
     "output_type": "stream",
     "text": [
      "FGB bank has $\n",
      "1304.77318383\n",
      "whereas ESL bank has $\n",
      "1346.48837535\n",
      "and PCU bank has $\n",
      "1346.67013889\n"
     ]
    }
   ],
   "source": [
    "# Solution goes here\n",
    "Banks = System(a= 0.03, t=120, n=10, P0=1000)\n",
    "\n",
    "FGB = TimeSeries()\n",
    "\n",
    "ESL = TimeSeries()\n",
    "\n",
    "PCB = TimeSeries()\n",
    "\n",
    "a= Banks.a\n",
    "t= Banks.t\n",
    "n= Banks.n\n",
    "P0= Banks.P0\n",
    "\n",
    "def run_simFGB(system):\n",
    "    a = system.a\n",
    "    P0 = system.P0\n",
    "    n = system.n\n",
    "    \n",
    "    \n",
    "    for j in range(10):\n",
    "        FGB[j+1]= 1000*(1+0.03)**j\n",
    "    return FGB  \n",
    "\n",
    "def run_simESL(system):\n",
    "    a = system.a\n",
    "    P0 = system.P0\n",
    "    n = system.n\n",
    "    \n",
    "    \n",
    "    for j in range(120):\n",
    "        ESL[j+1]= 1000*exp(a*(j/12))\n",
    "    return ESL\n",
    "\n",
    "def run_simPCU(system):\n",
    "    P0 = Banks.P0\n",
    "    n = Banks.n\n",
    "    b1=30\n",
    "    b2=.5\n",
    "    \n",
    "    \n",
    "    for j in range(120):\n",
    "        PCU[j+1]= 1000+b1*(j/12)+b2*(j/12)**2\n",
    "    return PCU\n",
    "\n",
    "def run_sim(system):\n",
    "    FGB = run_simFGB(system)\n",
    "    ESL = run_simESL(system)\n",
    "    PCU = run_simPCU(system)\n",
    "    return ESL, FGB\n",
    "\n",
    "\n",
    "run_sim(Banks)\n",
    "print(\"FGB bank has $\")\n",
    "print(FGB[10])\n",
    "print(\"whereas ESL bank has $\")\n",
    "print(ESL[120])\n",
    "print(\"and PCU bank has $\")\n",
    "print(PCU[120])"
   ]
  },
  {
   "cell_type": "code",
   "execution_count": 159,
   "metadata": {},
   "outputs": [
    {
     "name": "stdout",
     "output_type": "stream",
     "text": [
      "FGB bank has $\n",
      "1753.50605308\n",
      "whereas ESL bank has $\n",
      "1817.56919277\n",
      "and PCU bank has $\n",
      "1795.83680556\n"
     ]
    }
   ],
   "source": [
    "# Solution goes here\n",
    "\n",
    "Banks = System(a= 0.03, t=120*2, n=10*2, P0=1000)\n",
    "\n",
    "FGB = TimeSeries()\n",
    "\n",
    "ESL = TimeSeries()\n",
    "\n",
    "PCB = TimeSeries()\n",
    "\n",
    "a= Banks.a\n",
    "t= Banks.t\n",
    "n= Banks.n\n",
    "P0= Banks.P0\n",
    "\n",
    "def run_simFGB(system):\n",
    "    a = system.a\n",
    "    P0 = system.P0\n",
    "    n = system.n\n",
    "    \n",
    "    \n",
    "    for j in range(20):\n",
    "        FGB[j+1]= 1000*(1+0.03)**j\n",
    "    return FGB  \n",
    "\n",
    "def run_simESL(system):\n",
    "    a = system.a\n",
    "    P0 = system.P0\n",
    "    n = system.n\n",
    "    \n",
    "    \n",
    "    for j in range(240):\n",
    "        ESL[j+1]= 1000*exp(a*(j/12))\n",
    "    return ESL\n",
    "\n",
    "def run_simPCU(system):\n",
    "    P0 = Banks.P0\n",
    "    n = Banks.n\n",
    "    b1=30\n",
    "    b2=.5\n",
    "    \n",
    "    \n",
    "    for j in range(240):\n",
    "        PCU[j+1]= 1000+b1*(j/12)+b2*(j/12)**2\n",
    "    return PCU\n",
    "\n",
    "def run_sim(system):\n",
    "    FGB = run_simFGB(system)\n",
    "    ESL = run_simESL(system)\n",
    "    PCU = run_simPCU(system)\n",
    "    return ESL, FGB\n",
    "\n",
    "\n",
    "run_sim(Banks)\n",
    "print(\"FGB bank has $\")\n",
    "print(FGB[20])\n",
    "print(\"whereas ESL bank has $\")\n",
    "print(ESL[240])\n",
    "print(\"and PCU bank has $\")\n",
    "print(PCU[240])"
   ]
  },
  {
   "cell_type": "code",
   "execution_count": 160,
   "metadata": {},
   "outputs": [
    {
     "name": "stdout",
     "output_type": "stream",
     "text": [
      "FGB bank has $\n",
      "18658.8660008\n",
      "whereas ESL bank has $\n",
      "20035.3857959\n",
      "and PCU bank has $\n",
      "8989.17013889\n"
     ]
    }
   ],
   "source": [
    "# Solution goes here\n",
    "Banks = System(a= 0.03, t=120*10, n=10*10, P0=1000)\n",
    "\n",
    "FGB = TimeSeries()\n",
    "\n",
    "ESL = TimeSeries()\n",
    "\n",
    "PCB = TimeSeries()\n",
    "\n",
    "a= Banks.a\n",
    "t= Banks.t\n",
    "n= Banks.n\n",
    "P0= Banks.P0\n",
    "\n",
    "def run_simFGB(system):\n",
    "    a = system.a\n",
    "    P0 = system.P0\n",
    "    n = system.n\n",
    "    \n",
    "    \n",
    "    for j in range(10*10):\n",
    "        FGB[j+1]= 1000*(1+0.03)**j\n",
    "    return FGB  \n",
    "\n",
    "def run_simESL(system):\n",
    "    a = system.a\n",
    "    P0 = system.P0\n",
    "    n = system.n\n",
    "    \n",
    "    \n",
    "    for j in range(120*10):\n",
    "        ESL[j+1]= 1000*exp(a*(j/12))\n",
    "    return ESL\n",
    "\n",
    "def run_simPCU(system):\n",
    "    P0 = Banks.P0\n",
    "    n = Banks.n\n",
    "    b1=30\n",
    "    b2=.5\n",
    "    \n",
    "    \n",
    "    for j in range(120*10):\n",
    "        PCU[j+1]= 1000+b1*(j/12)+b2*(j/12)**2\n",
    "    return PCU\n",
    "\n",
    "def run_sim(system):\n",
    "    FGB = run_simFGB(system)\n",
    "    ESL = run_simESL(system)\n",
    "    PCU = run_simPCU(system)\n",
    "    return ESL, FGB\n",
    "\n",
    "\n",
    "run_sim(Banks)\n",
    "print(\"FGB bank has $\")\n",
    "print(FGB[10*10])\n",
    "print(\"whereas ESL bank has $\")\n",
    "print(ESL[120*10])\n",
    "print(\"and PCU bank has $\")\n",
    "print(PCU[120*10])"
   ]
  },
  {
   "cell_type": "code",
   "execution_count": 34,
   "metadata": {
    "collapsed": true
   },
   "outputs": [],
   "source": [
    "# Solution goes here"
   ]
  },
  {
   "cell_type": "code",
   "execution_count": null,
   "metadata": {
    "collapsed": true
   },
   "outputs": [],
   "source": []
  },
  {
   "cell_type": "code",
   "execution_count": 56,
   "metadata": {},
   "outputs": [
    {
     "data": {
      "text/html": [
       "<div>\n",
       "<style>\n",
       "    .dataframe thead tr:only-child th {\n",
       "        text-align: right;\n",
       "    }\n",
       "\n",
       "    .dataframe thead th {\n",
       "        text-align: left;\n",
       "    }\n",
       "\n",
       "    .dataframe tbody tr th {\n",
       "        vertical-align: top;\n",
       "    }\n",
       "</style>\n",
       "<table border=\"1\" class=\"dataframe\">\n",
       "  <thead>\n",
       "    <tr style=\"text-align: right;\">\n",
       "      <th></th>\n",
       "      <th>value</th>\n",
       "    </tr>\n",
       "  </thead>\n",
       "  <tbody>\n",
       "    <tr>\n",
       "      <th>1</th>\n",
       "      <td>1000.000000</td>\n",
       "    </tr>\n",
       "    <tr>\n",
       "      <th>2</th>\n",
       "      <td>1003.000000</td>\n",
       "    </tr>\n",
       "    <tr>\n",
       "      <th>3</th>\n",
       "      <td>1006.009000</td>\n",
       "    </tr>\n",
       "    <tr>\n",
       "      <th>4</th>\n",
       "      <td>1009.027027</td>\n",
       "    </tr>\n",
       "    <tr>\n",
       "      <th>5</th>\n",
       "      <td>1012.054108</td>\n",
       "    </tr>\n",
       "    <tr>\n",
       "      <th>6</th>\n",
       "      <td>1015.090270</td>\n",
       "    </tr>\n",
       "    <tr>\n",
       "      <th>7</th>\n",
       "      <td>1018.135541</td>\n",
       "    </tr>\n",
       "    <tr>\n",
       "      <th>8</th>\n",
       "      <td>1021.189948</td>\n",
       "    </tr>\n",
       "    <tr>\n",
       "      <th>9</th>\n",
       "      <td>1024.253518</td>\n",
       "    </tr>\n",
       "    <tr>\n",
       "      <th>10</th>\n",
       "      <td>1027.326278</td>\n",
       "    </tr>\n",
       "  </tbody>\n",
       "</table>\n",
       "</div>"
      ],
      "text/plain": [
       "1     1000.000000\n",
       "2     1003.000000\n",
       "3     1006.009000\n",
       "4     1009.027027\n",
       "5     1012.054108\n",
       "6     1015.090270\n",
       "7     1018.135541\n",
       "8     1021.189948\n",
       "9     1024.253518\n",
       "10    1027.326278\n",
       "dtype: float64"
      ]
     },
     "execution_count": 56,
     "metadata": {},
     "output_type": "execute_result"
    }
   ],
   "source": [
    "initialmoney = (0,1000)\n",
    "Money= TimeSeries()\n",
    "\n",
    "\n",
    "for j in range(10):\n",
    "    Money[j+1]= 1000*(1.003)**j\n",
    "Money\n"
   ]
  },
  {
   "cell_type": "code",
   "execution_count": null,
   "metadata": {
    "collapsed": true
   },
   "outputs": [],
   "source": []
  }
 ],
 "metadata": {
  "kernelspec": {
   "display_name": "Python 3",
   "language": "python",
   "name": "python3"
  },
  "language_info": {
   "codemirror_mode": {
    "name": "ipython",
    "version": 3
   },
   "file_extension": ".py",
   "mimetype": "text/x-python",
   "name": "python",
   "nbconvert_exporter": "python",
   "pygments_lexer": "ipython3",
   "version": "3.6.1"
  }
 },
 "nbformat": 4,
 "nbformat_minor": 1
}
