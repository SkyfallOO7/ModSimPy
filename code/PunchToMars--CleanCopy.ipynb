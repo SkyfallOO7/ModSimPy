{
 "cells": [
  {
   "cell_type": "code",
   "execution_count": 29,
   "metadata": {},
   "outputs": [
    {
     "ename": "ValueError",
     "evalue": "Cannot compare Quantity and <class 'int'>",
     "output_type": "error",
     "traceback": [
      "\u001b[1;31m---------------------------------------------------------------------------\u001b[0m",
      "\u001b[1;31mValueError\u001b[0m                                Traceback (most recent call last)",
      "\u001b[1;32m<ipython-input-29-8be9e3779561>\u001b[0m in \u001b[0;36m<module>\u001b[1;34m()\u001b[0m\n\u001b[0;32m     85\u001b[0m \u001b[1;33m\u001b[0m\u001b[0m\n\u001b[0;32m     86\u001b[0m \u001b[0msystem_test\u001b[0m\u001b[1;33m=\u001b[0m \u001b[0mmake_system\u001b[0m\u001b[1;33m(\u001b[0m\u001b[0mcondition\u001b[0m\u001b[1;33m)\u001b[0m\u001b[1;33m\u001b[0m\u001b[0m\n\u001b[1;32m---> 87\u001b[1;33m \u001b[0mslope_test\u001b[0m\u001b[1;33m=\u001b[0m \u001b[0mslope_func\u001b[0m\u001b[1;33m(\u001b[0m\u001b[0msystem\u001b[0m\u001b[1;33m.\u001b[0m\u001b[0minit\u001b[0m\u001b[1;33m,\u001b[0m \u001b[1;36m0\u001b[0m\u001b[1;33m,\u001b[0m \u001b[0msystem\u001b[0m\u001b[1;33m)\u001b[0m\u001b[1;33m\u001b[0m\u001b[0m\n\u001b[0m\u001b[0;32m     88\u001b[0m \u001b[1;33m\u001b[0m\u001b[0m\n\u001b[0;32m     89\u001b[0m \u001b[0mrun_odeint\u001b[0m\u001b[1;33m(\u001b[0m\u001b[0msystem_test\u001b[0m\u001b[1;33m,\u001b[0m \u001b[0mslope_func\u001b[0m\u001b[1;33m)\u001b[0m\u001b[1;33m\u001b[0m\u001b[0m\n",
      "\u001b[1;32m<ipython-input-29-8be9e3779561>\u001b[0m in \u001b[0;36mslope_func\u001b[1;34m(state, t, system)\u001b[0m\n\u001b[0;32m     77\u001b[0m     \u001b[0ma\u001b[0m \u001b[1;33m=\u001b[0m \u001b[0ma_grav\u001b[0m\u001b[1;33m\u001b[0m\u001b[0m\n\u001b[0;32m     78\u001b[0m \u001b[1;33m\u001b[0m\u001b[0m\n\u001b[1;32m---> 79\u001b[1;33m     \u001b[1;32mif\u001b[0m \u001b[0my\u001b[0m \u001b[1;33m>=\u001b[0m \u001b[1;36m225\u001b[0m \u001b[1;33m*\u001b[0m \u001b[1;36m10\u001b[0m\u001b[1;33m**\u001b[0m\u001b[1;36m6\u001b[0m\u001b[1;33m:\u001b[0m\u001b[1;33m\u001b[0m\u001b[0m\n\u001b[0m\u001b[0;32m     80\u001b[0m         \u001b[0mPrint\u001b[0m\u001b[1;33m(\u001b[0m\u001b[1;34m\"it is done\"\u001b[0m\u001b[1;33m)\u001b[0m\u001b[1;33m\u001b[0m\u001b[0m\n\u001b[0;32m     81\u001b[0m \u001b[1;33m\u001b[0m\u001b[0m\n",
      "\u001b[1;32mC:\\Users\\lzuniga\\AppData\\Local\\Continuum\\Anaconda3\\lib\\site-packages\\pint\\quantity.py\u001b[0m in \u001b[0;36m<lambda>\u001b[1;34m(self, other)\u001b[0m\n\u001b[0;32m   1077\u001b[0m     \u001b[0m__lt__\u001b[0m \u001b[1;33m=\u001b[0m \u001b[1;32mlambda\u001b[0m \u001b[0mself\u001b[0m\u001b[1;33m,\u001b[0m \u001b[0mother\u001b[0m\u001b[1;33m:\u001b[0m \u001b[0mself\u001b[0m\u001b[1;33m.\u001b[0m\u001b[0mcompare\u001b[0m\u001b[1;33m(\u001b[0m\u001b[0mother\u001b[0m\u001b[1;33m,\u001b[0m \u001b[0mop\u001b[0m\u001b[1;33m=\u001b[0m\u001b[0moperator\u001b[0m\u001b[1;33m.\u001b[0m\u001b[0mlt\u001b[0m\u001b[1;33m)\u001b[0m\u001b[1;33m\u001b[0m\u001b[0m\n\u001b[0;32m   1078\u001b[0m     \u001b[0m__le__\u001b[0m \u001b[1;33m=\u001b[0m \u001b[1;32mlambda\u001b[0m \u001b[0mself\u001b[0m\u001b[1;33m,\u001b[0m \u001b[0mother\u001b[0m\u001b[1;33m:\u001b[0m \u001b[0mself\u001b[0m\u001b[1;33m.\u001b[0m\u001b[0mcompare\u001b[0m\u001b[1;33m(\u001b[0m\u001b[0mother\u001b[0m\u001b[1;33m,\u001b[0m \u001b[0mop\u001b[0m\u001b[1;33m=\u001b[0m\u001b[0moperator\u001b[0m\u001b[1;33m.\u001b[0m\u001b[0mle\u001b[0m\u001b[1;33m)\u001b[0m\u001b[1;33m\u001b[0m\u001b[0m\n\u001b[1;32m-> 1079\u001b[1;33m     \u001b[0m__ge__\u001b[0m \u001b[1;33m=\u001b[0m \u001b[1;32mlambda\u001b[0m \u001b[0mself\u001b[0m\u001b[1;33m,\u001b[0m \u001b[0mother\u001b[0m\u001b[1;33m:\u001b[0m \u001b[0mself\u001b[0m\u001b[1;33m.\u001b[0m\u001b[0mcompare\u001b[0m\u001b[1;33m(\u001b[0m\u001b[0mother\u001b[0m\u001b[1;33m,\u001b[0m \u001b[0mop\u001b[0m\u001b[1;33m=\u001b[0m\u001b[0moperator\u001b[0m\u001b[1;33m.\u001b[0m\u001b[0mge\u001b[0m\u001b[1;33m)\u001b[0m\u001b[1;33m\u001b[0m\u001b[0m\n\u001b[0m\u001b[0;32m   1080\u001b[0m     \u001b[0m__gt__\u001b[0m \u001b[1;33m=\u001b[0m \u001b[1;32mlambda\u001b[0m \u001b[0mself\u001b[0m\u001b[1;33m,\u001b[0m \u001b[0mother\u001b[0m\u001b[1;33m:\u001b[0m \u001b[0mself\u001b[0m\u001b[1;33m.\u001b[0m\u001b[0mcompare\u001b[0m\u001b[1;33m(\u001b[0m\u001b[0mother\u001b[0m\u001b[1;33m,\u001b[0m \u001b[0mop\u001b[0m\u001b[1;33m=\u001b[0m\u001b[0moperator\u001b[0m\u001b[1;33m.\u001b[0m\u001b[0mgt\u001b[0m\u001b[1;33m)\u001b[0m\u001b[1;33m\u001b[0m\u001b[0m\n\u001b[0;32m   1081\u001b[0m \u001b[1;33m\u001b[0m\u001b[0m\n",
      "\u001b[1;32mC:\\Users\\lzuniga\\AppData\\Local\\Continuum\\Anaconda3\\lib\\site-packages\\pint\\quantity.py\u001b[0m in \u001b[0;36mcompare\u001b[1;34m(self, other, op)\u001b[0m\n\u001b[0;32m   1065\u001b[0m                 \u001b[1;32mreturn\u001b[0m \u001b[0mop\u001b[0m\u001b[1;33m(\u001b[0m\u001b[0mself\u001b[0m\u001b[1;33m.\u001b[0m\u001b[0m_convert_magnitude_not_inplace\u001b[0m\u001b[1;33m(\u001b[0m\u001b[0mUnitsContainer\u001b[0m\u001b[1;33m(\u001b[0m\u001b[1;33m)\u001b[0m\u001b[1;33m)\u001b[0m\u001b[1;33m,\u001b[0m \u001b[0mother\u001b[0m\u001b[1;33m)\u001b[0m\u001b[1;33m\u001b[0m\u001b[0m\n\u001b[0;32m   1066\u001b[0m             \u001b[1;32melse\u001b[0m\u001b[1;33m:\u001b[0m\u001b[1;33m\u001b[0m\u001b[0m\n\u001b[1;32m-> 1067\u001b[1;33m                 \u001b[1;32mraise\u001b[0m \u001b[0mValueError\u001b[0m\u001b[1;33m(\u001b[0m\u001b[1;34m'Cannot compare Quantity and {0}'\u001b[0m\u001b[1;33m.\u001b[0m\u001b[0mformat\u001b[0m\u001b[1;33m(\u001b[0m\u001b[0mtype\u001b[0m\u001b[1;33m(\u001b[0m\u001b[0mother\u001b[0m\u001b[1;33m)\u001b[0m\u001b[1;33m)\u001b[0m\u001b[1;33m)\u001b[0m\u001b[1;33m\u001b[0m\u001b[0m\n\u001b[0m\u001b[0;32m   1068\u001b[0m \u001b[1;33m\u001b[0m\u001b[0m\n\u001b[0;32m   1069\u001b[0m         \u001b[1;32mif\u001b[0m \u001b[0mself\u001b[0m\u001b[1;33m.\u001b[0m\u001b[0m_units\u001b[0m \u001b[1;33m==\u001b[0m \u001b[0mother\u001b[0m\u001b[1;33m.\u001b[0m\u001b[0m_units\u001b[0m\u001b[1;33m:\u001b[0m\u001b[1;33m\u001b[0m\u001b[0m\n",
      "\u001b[1;31mValueError\u001b[0m: Cannot compare Quantity and <class 'int'>"
     ]
    }
   ],
   "source": [
    "%matplotlib notebook\n",
    "\n",
    "from modsim import *\n",
    "\n",
    "#Step 1/2:Units Being Used\n",
    "\n",
    "Kg= UNITS.kilogram\n",
    "N= UNITS.kilogram * UNITS.meter / UNITS.second**2\n",
    "Km= 1000 * UNITS.meter\n",
    "degree = UNITS.degree\n",
    "s = UNITS.second\n",
    "m = UNITS.meter\n",
    "\n",
    "#Step 1: Determine Initial Conditions\n",
    "\n",
    "Mass_Earth= 5.972 * 10**24 * Kg\n",
    "Mass_Mars= 6.39 * 10**23 * Kg\n",
    "Mass_Victim= 70 * Kg\n",
    "Distance_Earth_Victim= 6371 * Km\n",
    "Force_Punch=  1 *10**12 * N\n",
    "Distance_Victim_Mars= 225 * 10**6 * Km\n",
    "T_init = 0\n",
    "Punch_Time = .125 * s\n",
    "\n",
    "Punch_Velocity = Force_Punch * Punch_Time / Mass_Victim\n",
    "\n",
    "accel_g = -((6.674 * 10**11) * Mass_Earth) / (Distance_Earth_Victim **2)\n",
    "\n",
    "#When adding Drag, include variable in this condition part. Variables equivalent to rho, diameter, C_d are preffered.\n",
    "condition = Condition(x= 0*m,\n",
    "                      y= 0*m,\n",
    "                      g= accel_g,\n",
    "                      Mass_Earth= 5.972 * 10**24 * Kg,\n",
    "                      Mass_Mars= 6.39 * 10**23 * Kg,\n",
    "                      Mass_Victim= 70 * Kg,\n",
    "                      Distance_Earth_Victim= 6371 * Km,\n",
    "                      Distance_Victim_Mars= 225 * 10**6 * Km,\n",
    "                      angle= 90 * degree,\n",
    "                      init_force= Force_Punch,\n",
    "                      init_a = Force_Punch/Mass_Victim,\n",
    "                      init_v = Punch_Velocity,\n",
    "                      duration = 10 *s,\n",
    "                      )\n",
    "\n",
    "def make_system(condition):\n",
    "    unpack(condition)\n",
    "    \n",
    "    \n",
    "    vy = init_v\n",
    "    init = State( y=y, vy=vy)\n",
    "    \n",
    "    ts= linspace(0,duration, 101)\n",
    "    \n",
    "    return System(init=init, g=g, Mass_Victim= Mass_Victim, Mass_Earth= Mass_Earth, Mass_Mars= Mass_Mars,ts=ts)\n",
    "    \n",
    "system = make_system(condition)\n",
    "\n",
    "#Step 4: Defining Gravity\n",
    "force_g =  -((6.674 * 10**-11 * N * m**2 / Kg**2) * condition.Mass_Victim * condition.Mass_Earth) / (condition.Distance_Earth_Victim ** 2)\n",
    "\n",
    "accel_g = -((6.674 * 10**-11 * N * m**2 / Kg**2 ) * condition.Mass_Earth) / (condition.Distance_Earth_Victim **2)\n",
    "\n",
    "def slope_func(state, t, system):\n",
    "    y, vy = state\n",
    "    unpack(system)\n",
    "    \n",
    "    Dis_E_V = condition.Distance_Earth_Victim + y\n",
    "    \n",
    "    Dis_M_V = condition.Distance_Victim_Mars - y \n",
    "    \n",
    "    accel_g = -((6.674 * 10**-11 * N * m**2 / Kg**2 ) * condition.Mass_Earth) / (Dis_E_V **2)\n",
    "    a_grav = accel_g\n",
    "    \n",
    "    \n",
    "    v =  vy\n",
    "    \n",
    "    a = a_grav\n",
    "    \n",
    "       \n",
    "    return vy, a\n",
    "    \n",
    "#Running the Program\n",
    "\n",
    "system_test= make_system(condition)\n",
    "slope_test= slope_func(system.init, 0, system)\n",
    "\n",
    "run_odeint(system_test, slope_func)\n",
    "\n",
    "ys = system_test.results.y\n",
    "\n",
    "#Displaying the End\n",
    "newfig()\n",
    "\n",
    "plot(ys, 'g-', label='y')\n",
    "decorate(xlabel = \"Time (sec)\",\n",
    "         ylabel = \"Distance (m)\",\n",
    "         ylim = [0, 22500000000])"
   ]
  },
  {
   "cell_type": "code",
   "execution_count": 27,
   "metadata": {},
   "outputs": [],
   "source": [
    "#Parameter Sweep!!!!!!!!!!!!!!!\n",
    "\n",
    "#def sweep_parameters(beta_array, gamma_array):\n",
    "#frame = SweepFrame(columns=gamma_array)\n",
    "#for gamma in gamma_array:\n",
    "#frame[gamma] = sweep_beta(beta_array, gamma)\n",
    "#return frame\n",
    "\n"
   ]
  },
  {
   "cell_type": "code",
   "execution_count": null,
   "metadata": {
    "collapsed": true
   },
   "outputs": [],
   "source": []
  },
  {
   "cell_type": "code",
   "execution_count": null,
   "metadata": {
    "collapsed": true
   },
   "outputs": [],
   "source": []
  }
 ],
 "metadata": {
  "kernelspec": {
   "display_name": "Python 3",
   "language": "python",
   "name": "python3"
  },
  "language_info": {
   "codemirror_mode": {
    "name": "ipython",
    "version": 3
   },
   "file_extension": ".py",
   "mimetype": "text/x-python",
   "name": "python",
   "nbconvert_exporter": "python",
   "pygments_lexer": "ipython3",
   "version": "3.6.1"
  }
 },
 "nbformat": 4,
 "nbformat_minor": 2
}
